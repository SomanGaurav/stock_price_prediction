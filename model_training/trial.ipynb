{
 "cells": [
  {
   "cell_type": "code",
   "execution_count": 15,
   "metadata": {},
   "outputs": [],
   "source": [
    "from tensorflow.keras.models import load_model\n",
    "import yfinance as yf\n",
    "import numpy as np"
   ]
  },
  {
   "cell_type": "code",
   "execution_count": 14,
   "metadata": {},
   "outputs": [],
   "source": [
    "model = load_model(\"/models/ADANIENT.NS.h5\")"
   ]
  },
  {
   "cell_type": "code",
   "execution_count": 8,
   "metadata": {},
   "outputs": [
    {
     "name": "stdout",
     "output_type": "stream",
     "text": [
      "[*********************100%***********************]  1 of 1 completed\n"
     ]
    }
   ],
   "source": [
    "data = yf.download(\"ADANIENT.NS\",period=\"3d\",interval=\"1d\")"
   ]
  },
  {
   "cell_type": "code",
   "execution_count": 13,
   "metadata": {},
   "outputs": [
    {
     "data": {
      "text/html": [
       "<div>\n",
       "<style scoped>\n",
       "    .dataframe tbody tr th:only-of-type {\n",
       "        vertical-align: middle;\n",
       "    }\n",
       "\n",
       "    .dataframe tbody tr th {\n",
       "        vertical-align: top;\n",
       "    }\n",
       "\n",
       "    .dataframe thead th {\n",
       "        text-align: right;\n",
       "    }\n",
       "</style>\n",
       "<table border=\"1\" class=\"dataframe\">\n",
       "  <thead>\n",
       "    <tr style=\"text-align: right;\">\n",
       "      <th></th>\n",
       "      <th>Open</th>\n",
       "      <th>High</th>\n",
       "      <th>Low</th>\n",
       "      <th>Close</th>\n",
       "      <th>Adj Close</th>\n",
       "      <th>Volume</th>\n",
       "    </tr>\n",
       "    <tr>\n",
       "      <th>Date</th>\n",
       "      <th></th>\n",
       "      <th></th>\n",
       "      <th></th>\n",
       "      <th></th>\n",
       "      <th></th>\n",
       "      <th></th>\n",
       "    </tr>\n",
       "  </thead>\n",
       "  <tbody>\n",
       "    <tr>\n",
       "      <th>2023-02-28</th>\n",
       "      <td>1145.000000</td>\n",
       "      <td>1398.0</td>\n",
       "      <td>1103.750000</td>\n",
       "      <td>1363.849976</td>\n",
       "      <td>1363.849976</td>\n",
       "      <td>33948366</td>\n",
       "    </tr>\n",
       "    <tr>\n",
       "      <th>2023-03-01</th>\n",
       "      <td>1424.000000</td>\n",
       "      <td>1580.0</td>\n",
       "      <td>1411.000000</td>\n",
       "      <td>1564.300049</td>\n",
       "      <td>1564.300049</td>\n",
       "      <td>20114340</td>\n",
       "    </tr>\n",
       "    <tr>\n",
       "      <th>2023-03-02</th>\n",
       "      <td>1499.900024</td>\n",
       "      <td>1646.0</td>\n",
       "      <td>1407.900024</td>\n",
       "      <td>1607.250000</td>\n",
       "      <td>1607.250000</td>\n",
       "      <td>26969695</td>\n",
       "    </tr>\n",
       "  </tbody>\n",
       "</table>\n",
       "</div>"
      ],
      "text/plain": [
       "                   Open    High          Low        Close    Adj Close  \\\n",
       "Date                                                                     \n",
       "2023-02-28  1145.000000  1398.0  1103.750000  1363.849976  1363.849976   \n",
       "2023-03-01  1424.000000  1580.0  1411.000000  1564.300049  1564.300049   \n",
       "2023-03-02  1499.900024  1646.0  1407.900024  1607.250000  1607.250000   \n",
       "\n",
       "              Volume  \n",
       "Date                  \n",
       "2023-02-28  33948366  \n",
       "2023-03-01  20114340  \n",
       "2023-03-02  26969695  "
      ]
     },
     "execution_count": 13,
     "metadata": {},
     "output_type": "execute_result"
    }
   ],
   "source": [
    "data"
   ]
  },
  {
   "cell_type": "code",
   "execution_count": 77,
   "metadata": {},
   "outputs": [
    {
     "name": "stdout",
     "output_type": "stream",
     "text": [
      "[1363.8499755859375, 1564.300048828125, 1607.25]\n"
     ]
    }
   ],
   "source": [
    "close = []\n",
    "for i in data.Close : \n",
    "    close.append(i)\n",
    "print(close)\n",
    "inputs = np.array(close).reshape(1,3,1)\n"
   ]
  },
  {
   "cell_type": "code",
   "execution_count": 59,
   "metadata": {},
   "outputs": [
    {
     "name": "stdout",
     "output_type": "stream",
     "text": [
      "1/1 [==============================] - 0s 28ms/step\n",
      "[1564.300048828125, 1607.25, 1655.3654]\n"
     ]
    }
   ],
   "source": [
    "temp = model.predict(np.array(close).reshape(1,3,1))[0][0]\n",
    "close.append(temp)\n",
    "close = close[1:4]\n",
    "predictions.append(temp)\n",
    "print(close)"
   ]
  },
  {
   "cell_type": "code",
   "execution_count": 78,
   "metadata": {},
   "outputs": [
    {
     "name": "stdout",
     "output_type": "stream",
     "text": [
      "[1363.8499755859375, 1564.300048828125, 1607.25]\n",
      "1/1 [==============================] - 0s 27ms/step\n",
      "[1564.300048828125, 1607.25, 1655.3654]\n",
      "1/1 [==============================] - 0s 29ms/step\n",
      "[1607.25, 1655.3654, 1668.4796]\n",
      "1/1 [==============================] - 0s 49ms/step\n",
      "[1655.3654, 1668.4796, 1673.1494]\n",
      "1/1 [==============================] - 0s 30ms/step\n",
      "[1668.4796, 1673.1494, 1675.065]\n",
      "1/1 [==============================] - 0s 32ms/step\n",
      "[1673.1494, 1675.065, 1675.884]\n"
     ]
    }
   ],
   "source": [
    "print(close)\n",
    "predictions = []\n",
    "for i in range(5):\n",
    "    temp = model.predict(np.array(close).reshape(1,3,1))[0][0]\n",
    "    close.append(temp)\n",
    "    close = close[1:4]\n",
    "    print(close)\n",
    "    predictions.append(temp)"
   ]
  },
  {
   "cell_type": "code",
   "execution_count": 75,
   "metadata": {},
   "outputs": [
    {
     "data": {
      "text/plain": [
       "[1676.5192, 1676.5192, 1676.5192, 1676.5192, 1676.5192]"
      ]
     },
     "execution_count": 75,
     "metadata": {},
     "output_type": "execute_result"
    }
   ],
   "source": [
    "predictions"
   ]
  },
  {
   "cell_type": "code",
   "execution_count": 79,
   "metadata": {},
   "outputs": [
    {
     "data": {
      "text/plain": [
       "[<matplotlib.lines.Line2D at 0x231ec8cba90>]"
      ]
     },
     "execution_count": 79,
     "metadata": {},
     "output_type": "execute_result"
    },
    {
     "data": {
      "image/png": "[encoded data removed]",
      "text/plain": [
       "<Figure size 432x288 with 1 Axes>"
      ]
     },
     "metadata": {
      "needs_background": "light"
     },
     "output_type": "display_data"
    }
   ],
   "source": [
    "from matplotlib import pyplot as plt \n",
    "plt.plot(predictions)"
   ]
  },
  {
   "cell_type": "code",
   "execution_count": 88,
   "metadata": {},
   "outputs": [
    {
     "name": "stdout",
     "output_type": "stream",
     "text": [
      "[*********************100%***********************]  1 of 1 completed\n"
     ]
    }
   ],
   "source": [
    "data = yf.download(\"ADANIENT.NS\",period=\"30d\",interval=\"1d\")\n",
    "data[\"Target1\"] = data.Close.shift(1)\n",
    "data[\"Target2\"] = data.Close.shift(2)\n",
    "data[\"Target3\"] = data.Close.shift(3)\n",
    "data = data.dropna()\n",
    "y = data.Close.values\n",
    "X = data[[\"Target1\",\"Target2\",\"Target3\"]].values"
   ]
  },
  {
   "cell_type": "code",
   "execution_count": 92,
   "metadata": {},
   "outputs": [
    {
     "data": {
      "text/plain": [
       "(27, 3)"
      ]
     },
     "execution_count": 92,
     "metadata": {},
     "output_type": "execute_result"
    }
   ],
   "source": [
    "X.shape"
   ]
  },
  {
   "cell_type": "code",
   "execution_count": 94,
   "metadata": {},
   "outputs": [
    {
     "data": {
      "text/plain": [
       "array([[[3436.35009766],\n",
       "        [3456.14990234],\n",
       "        [3463.55004883]],\n",
       "\n",
       "       [[3442.        ],\n",
       "        [3436.35009766],\n",
       "        [3456.14990234]],\n",
       "\n",
       "       [[3388.94995117],\n",
       "        [3442.        ],\n",
       "        [3436.35009766]],\n",
       "\n",
       "       [[2761.44995117],\n",
       "        [3388.94995117],\n",
       "        [3442.        ]],\n",
       "\n",
       "       [[2892.85009766],\n",
       "        [2761.44995117],\n",
       "        [3388.94995117]],\n",
       "\n",
       "       [[2973.89990234],\n",
       "        [2892.85009766],\n",
       "        [2761.44995117]],\n",
       "\n",
       "       [[2135.35009766],\n",
       "        [2973.89990234],\n",
       "        [2892.85009766]],\n",
       "\n",
       "       [[1565.25      ],\n",
       "        [2135.35009766],\n",
       "        [2973.89990234]],\n",
       "\n",
       "       [[1586.80004883],\n",
       "        [1565.25      ],\n",
       "        [2135.35009766]],\n",
       "\n",
       "       [[1572.69995117],\n",
       "        [1586.80004883],\n",
       "        [1565.25      ]],\n",
       "\n",
       "       [[1802.94995117],\n",
       "        [1572.69995117],\n",
       "        [1586.80004883]],\n",
       "\n",
       "       [[2164.25      ],\n",
       "        [1802.94995117],\n",
       "        [1572.69995117]],\n",
       "\n",
       "       [[1925.69995117],\n",
       "        [2164.25      ],\n",
       "        [1802.94995117]],\n",
       "\n",
       "       [[1846.94995117],\n",
       "        [1925.69995117],\n",
       "        [2164.25      ]],\n",
       "\n",
       "       [[1717.65002441],\n",
       "        [1846.94995117],\n",
       "        [1925.69995117]],\n",
       "\n",
       "       [[1749.69995117],\n",
       "        [1717.65002441],\n",
       "        [1846.94995117]],\n",
       "\n",
       "       [[1779.09997559],\n",
       "        [1749.69995117],\n",
       "        [1717.65002441]],\n",
       "\n",
       "       [[1796.59997559],\n",
       "        [1779.09997559],\n",
       "        [1749.69995117]],\n",
       "\n",
       "       [[1722.69995117],\n",
       "        [1796.59997559],\n",
       "        [1779.09997559]],\n",
       "\n",
       "       [[1621.44995117],\n",
       "        [1722.69995117],\n",
       "        [1796.59997559]],\n",
       "\n",
       "       [[1571.09997559],\n",
       "        [1621.44995117],\n",
       "        [1722.69995117]],\n",
       "\n",
       "       [[1404.84997559],\n",
       "        [1571.09997559],\n",
       "        [1621.44995117]],\n",
       "\n",
       "       [[1382.65002441],\n",
       "        [1404.84997559],\n",
       "        [1571.09997559]],\n",
       "\n",
       "       [[1315.65002441],\n",
       "        [1382.65002441],\n",
       "        [1404.84997559]],\n",
       "\n",
       "       [[1193.5       ],\n",
       "        [1315.65002441],\n",
       "        [1382.65002441]],\n",
       "\n",
       "       [[1363.84997559],\n",
       "        [1193.5       ],\n",
       "        [1315.65002441]],\n",
       "\n",
       "       [[1564.30004883],\n",
       "        [1363.84997559],\n",
       "        [1193.5       ]]])"
      ]
     },
     "execution_count": 94,
     "metadata": {},
     "output_type": "execute_result"
    }
   ],
   "source": [
    "X = X.reshape((X.shape[0],3,1))\n",
    "X"
   ]
  },
  {
   "cell_type": "code",
   "execution_count": 95,
   "metadata": {},
   "outputs": [
    {
     "name": "stdout",
     "output_type": "stream",
     "text": [
      "1/1 [==============================] - 0s 91ms/step\n"
     ]
    }
   ],
   "source": [
    "y_pred = model.predict(X)"
   ]
  },
  {
   "cell_type": "code",
   "execution_count": 96,
   "metadata": {},
   "outputs": [
    {
     "data": {
      "text/plain": [
       "[<matplotlib.lines.Line2D at 0x231ec981fd0>]"
      ]
     },
     "execution_count": 96,
     "metadata": {},
     "output_type": "execute_result"
    },
    {
     "data": {
      "image/png": "[encoded data removed]",
      "text/plain": [
       "<Figure size 432x288 with 1 Axes>"
      ]
     },
     "metadata": {
      "needs_background": "light"
     },
     "output_type": "display_data"
    }
   ],
   "source": [
    "plt.plot(y,\"r\")\n",
    "plt.plot(y_pred,\"b\")"
   ]
  },
  {
   "cell_type": "code",
   "execution_count": 97,
   "metadata": {},
   "outputs": [
    {
     "data": {
      "text/plain": [
       "0.2035475021241543"
      ]
     },
     "execution_count": 97,
     "metadata": {},
     "output_type": "execute_result"
    }
   ],
   "source": [
    "from sklearn.metrics import r2_score\n",
    "r2_score(y_pred,y)"
   ]
  }
 ],
 "metadata": {
  "kernelspec": {
   "display_name": "base",
   "language": "python",
   "name": "python3"
  },
  "language_info": {
   "codemirror_mode": {
    "name": "ipython",
    "version": 3
   },
   "file_extension": ".py",
   "mimetype": "text/x-python",
   "name": "python",
   "nbconvert_exporter": "python",
   "pygments_lexer": "ipython3",
   "version": "3.9.12"
  },
  "orig_nbformat": 4,
  "vscode": {
   "interpreter": {
    "hash": "17af4f315e3517071c5350b8847eceb8ea2fd1d6293c62fc83a28ee27f2690d1"
   }
  }
 },
 "nbformat": 4,
 "nbformat_minor": 2
}
